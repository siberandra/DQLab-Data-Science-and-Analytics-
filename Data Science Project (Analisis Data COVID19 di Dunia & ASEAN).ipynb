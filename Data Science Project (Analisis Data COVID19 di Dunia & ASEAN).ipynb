import numpy as np
import pandas as pd
import ssl
import matplotlib.pyplot as plt
import seaborn as sns

# Set display options
pd.set_option("display.max_columns", None)

# Create unverified SSL context
ssl._create_default_https_context = ssl._create_unverified_context

# Load COVID-19 worldwide data
covid_url = "https://storage.googleapis.com/dqlab-dataset/covid19_worldwide_2020.json"
df_covid_worldwide = pd.read_json(covid_url)

# Display dataset information
print("Ukuran dataset: %d kolom dan %d baris.\n" % df_covid_worldwide.shape)
print("Lima data teratas:\n", df_covid_worldwide.head())
print("\nLima data terbawah:\n", df_covid_worldwide.tail())
print("Informasi data frame awal:")
df_covid_worldwide.info()

# Set index and sort by date
df_covid_worldwide = df_covid_worldwide.set_index("date").sort_index()
print("\nInformasi data frame setelah set index kolom date:")
df_covid_worldwide.info()

# Check for missing values
print("Jumlah missing value tiap kolom:")
print(df_covid_worldwide.isna().sum())

# Drop missing values
df_covid_worldwide.dropna(inplace=True)
print("\nJumlah missing value tiap kolom setelah didrop:")
print(df_covid_worldwide.isna().sum())

# Load country details
countries_url = "https://storage.googleapis.com/dqlab-dataset/country_details.json"
df_countries = pd.read_json(countries_url)
print(df_countries.head())

# Merge COVID data with country details
df_covid_denormalized = pd.merge(df_covid_worldwide.reset_index(), df_countries, on='geo_id').set_index('date')
print(df_covid_denormalized.head())

# Calculate fatality ratio
df_covid_denormalized["fatality_ratio"] = df_covid_denormalized["deaths"] / df_covid_denormalized["confirmed_cases"]

# Get top 20 countries by fatality rate
df_top_20_fatality_rate = df_covid_denormalized.sort_values("fatality_ratio", ascending=False).head(20)
print(df_top_20_fatality_rate[["geo_id", "country_name", "fatality_ratio"]])

# Aggregate data for August 2020
df_covid_denormalized_august = df_covid_denormalized.loc["2020-08"].groupby("country_name").sum()
df_covid_denormalized_august["fatality_ratio"] = df_covid_denormalized_august["deaths"] / df_covid_denormalized_august["confirmed_cases"]

# Get top 20 fatality rates in August
df_top_20_fatality_rate_on_august = df_covid_denormalized_august.sort_values(by="fatality_ratio", ascending=False).head(20)
print(df_top_20_fatality_rate_on_august["fatality_ratio"])

# Visualization of fatality rates
plt.figure(figsize=(8, 8))
df_top_20_fatality_rate_on_august["fatality_ratio"].sort_values().plot(kind="barh", color="coral")
plt.title("Top 20 Highest Fatality Rate Countries", fontsize=18, color="b")
plt.xlabel("Fatality Rate", fontsize=14)
plt.ylabel("Country Name", fontsize=14)
plt.grid(axis="x")
plt.tight_layout()
plt.show()

# Filter for ASEAN countries
asean_country_id = ["ID", "MY", "SG", "TH", "VN"]
filter_list = [(df_covid_denormalized["geo_id"] == country_id).to_numpy() for country_id in asean_country_id]
filter_array = np.column_stack(filter_list).sum(axis=1, dtype="bool")
df_covid_denormalized_asean = df_covid_denormalized[filter_array].sort_index()

# Display unique country names
print("Cek nilai unik di kolom 'country_name':", df_covid_denormalized_asean["country_name"].unique())
print(df_covid_denormalized_asean.head())

# Display first case in each ASEAN country
print("The first case popped up in each of 5 ASEAN countries:")
for country_id in asean_country_id:
    asean_country = df_covid_denormalized_asean[df_covid_denormalized_asean["geo_id"] == country_id]
    first_case = asean_country[asean_country["confirmed_cases"] > 0][["confirmed_cases", "geo_id", "